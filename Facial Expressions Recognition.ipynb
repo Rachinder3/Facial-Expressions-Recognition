{
 "cells": [
  {
   "cell_type": "markdown",
   "id": "3f6089d4",
   "metadata": {},
   "source": [
    "# Loading the libraries"
   ]
  },
  {
   "cell_type": "code",
   "execution_count": 1,
   "id": "652c2016",
   "metadata": {},
   "outputs": [],
   "source": [
    "import csv\n",
    "import pandas as pd\n",
    "import os\n",
    "from shutil import copyfile\n",
    "import tensorflow as tf\n",
    "from tensorflow.keras.preprocessing.image import ImageDataGenerator\n",
    "from tensorflow.keras.callbacks import EarlyStopping\n",
    "from tensorflow.keras.layers import Dense,Conv2D,MaxPool2D, Flatten\n",
    "from tensorflow.keras.optimizers import Adam\n",
    "import random"
   ]
  },
  {
   "cell_type": "markdown",
   "id": "2d6a0e3f",
   "metadata": {},
   "source": [
    "# Creating Expression Image Dictionary"
   ]
  },
  {
   "cell_type": "code",
   "execution_count": 2,
   "id": "07d02a29",
   "metadata": {},
   "outputs": [],
   "source": [
    "data={}\n",
    "with open(\"data\\\\facial_expressions\\\\data\\\\legend.csv\") as f:\n",
    "    reader=csv.reader(f)\n",
    "    next(reader)\n",
    "    for row in reader:\n",
    "        key=row[2].lower()  \n",
    "        if key in data:\n",
    "            data[key].append(row[1])\n",
    "        else:\n",
    "            data[key]=[row[1]]\n",
    "    \n"
   ]
  },
  {
   "cell_type": "markdown",
   "id": "c12b3ab5",
   "metadata": {},
   "source": [
    "# Creating and Populating Directories for ImageDataGenerator Class"
   ]
  },
  {
   "cell_type": "markdown",
   "id": "ab24dff5",
   "metadata": {},
   "source": [
    "### Total number of categories"
   ]
  },
  {
   "cell_type": "code",
   "execution_count": 3,
   "id": "169660aa",
   "metadata": {},
   "outputs": [
    {
     "data": {
      "text/plain": [
       "dict_keys(['anger', 'surprise', 'disgust', 'fear', 'neutral', 'happiness', 'sadness', 'contempt'])"
      ]
     },
     "execution_count": 3,
     "metadata": {},
     "output_type": "execute_result"
    }
   ],
   "source": [
    "data.keys()"
   ]
  },
  {
   "cell_type": "markdown",
   "id": "001e9017",
   "metadata": {},
   "source": [
    "### Making the directories"
   ]
  },
  {
   "cell_type": "code",
   "execution_count": 4,
   "id": "1c53f179",
   "metadata": {},
   "outputs": [],
   "source": [
    "os.mkdir('master_data')\n",
    "os.mkdir('master_data/training')\n",
    "os.mkdir('master_data/testing')"
   ]
  },
  {
   "cell_type": "code",
   "execution_count": 5,
   "id": "853374f0",
   "metadata": {},
   "outputs": [],
   "source": [
    "for emotion in data.keys():\n",
    "    os.mkdir(os.path.join('master_data/training/',emotion))\n",
    "    os.mkdir(os.path.join('master_data/testing/', emotion))\n",
    "    "
   ]
  },
  {
   "cell_type": "markdown",
   "id": "e6ce47f8",
   "metadata": {},
   "source": [
    "# Copying the files"
   ]
  },
  {
   "cell_type": "code",
   "execution_count": null,
   "id": "6cceadfd",
   "metadata": {},
   "outputs": [],
   "source": []
  },
  {
   "cell_type": "code",
   "execution_count": 6,
   "id": "2e96c2e6",
   "metadata": {},
   "outputs": [],
   "source": [
    "split_size=0.2\n",
    "faulty_images_fix=0.1  \n",
    "\n",
    "\n",
    "for emotion, images in data.items():\n",
    "    temp=int(faulty_images_fix*len(images))\n",
    "    images=images[temp:]\n",
    "    \n",
    "    \n",
    "    random.shuffle(images)\n",
    "    test_size= int(split_size*len(images))\n",
    "    \n",
    "    test_images=images[:test_size]  # First 20 % images are for testing\n",
    "    train_images=images[test_size:]  #  Last 80% images are for training\n",
    "    \n",
    "    \n",
    "    for image in train_images:\n",
    "        source= os.path.join('data\\\\facial_expressions\\\\images',image)\n",
    "        #print(source)\n",
    "        destination=os.path.join('master_data\\\\training',emotion,image)\n",
    "        #print(destination)\n",
    "        copyfile(source,destination)\n",
    "    \n",
    "    for image in test_images:\n",
    "        source= os.path.join('data\\\\facial_expressions\\\\images',image)\n",
    "        #print(source)\n",
    "        destination=os.path.join('master_data\\\\testing',emotion,image)\n",
    "        #print(destination)\n",
    "        copyfile(source,destination)        \n"
   ]
  },
  {
   "cell_type": "markdown",
   "id": "e4df1d67",
   "metadata": {},
   "source": [
    "# Creating the model"
   ]
  },
  {
   "cell_type": "code",
   "execution_count": null,
   "id": "86edebc7",
   "metadata": {},
   "outputs": [],
   "source": []
  },
  {
   "cell_type": "code",
   "execution_count": 7,
   "id": "07aa6858",
   "metadata": {},
   "outputs": [],
   "source": [
    "model=tf.keras.models.Sequential([\n",
    "    Conv2D(16, (3,3), activation='relu', input_shape=(100,100,3)),\n",
    "    MaxPool2D(2,2),\n",
    "    Conv2D(32, (3,3), activation='relu'),\n",
    "    MaxPool2D(2,2),\n",
    "    Conv2D(64, (3,3), activation='relu'),\n",
    "    MaxPool2D(2,2),\n",
    "    Flatten(),\n",
    "    Dense(1024, activation='relu'),\n",
    "    Dense(8, activation='softmax')\n",
    "    \n",
    "])"
   ]
  },
  {
   "cell_type": "code",
   "execution_count": 8,
   "id": "872ee7e3",
   "metadata": {},
   "outputs": [],
   "source": [
    "model.compile(optimizer=Adam(learning_rate=0.01),loss='categorical_crossentropy',metrics=['accuracy'])"
   ]
  },
  {
   "cell_type": "code",
   "execution_count": null,
   "id": "849920a4",
   "metadata": {},
   "outputs": [],
   "source": []
  },
  {
   "cell_type": "code",
   "execution_count": 9,
   "id": "ba8262f8",
   "metadata": {},
   "outputs": [
    {
     "name": "stdout",
     "output_type": "stream",
     "text": [
      "Model: \"sequential\"\n",
      "_________________________________________________________________\n",
      "Layer (type)                 Output Shape              Param #   \n",
      "=================================================================\n",
      "conv2d (Conv2D)              (None, 98, 98, 16)        448       \n",
      "_________________________________________________________________\n",
      "max_pooling2d (MaxPooling2D) (None, 49, 49, 16)        0         \n",
      "_________________________________________________________________\n",
      "conv2d_1 (Conv2D)            (None, 47, 47, 32)        4640      \n",
      "_________________________________________________________________\n",
      "max_pooling2d_1 (MaxPooling2 (None, 23, 23, 32)        0         \n",
      "_________________________________________________________________\n",
      "conv2d_2 (Conv2D)            (None, 21, 21, 64)        18496     \n",
      "_________________________________________________________________\n",
      "max_pooling2d_2 (MaxPooling2 (None, 10, 10, 64)        0         \n",
      "_________________________________________________________________\n",
      "flatten (Flatten)            (None, 6400)              0         \n",
      "_________________________________________________________________\n",
      "dense (Dense)                (None, 1024)              6554624   \n",
      "_________________________________________________________________\n",
      "dense_1 (Dense)              (None, 8)                 8200      \n",
      "=================================================================\n",
      "Total params: 6,586,408\n",
      "Trainable params: 6,586,408\n",
      "Non-trainable params: 0\n",
      "_________________________________________________________________\n"
     ]
    }
   ],
   "source": [
    "model.summary()"
   ]
  },
  {
   "cell_type": "markdown",
   "id": "c6f79c79",
   "metadata": {},
   "source": [
    "# Using Image DataGenerator Class"
   ]
  },
  {
   "cell_type": "code",
   "execution_count": 10,
   "id": "bca719ad",
   "metadata": {},
   "outputs": [],
   "source": [
    "# data source\n",
    "train_dir=\"master_data\\\\training\"\n",
    "test_dir=\"master_data\\\\testing\""
   ]
  },
  {
   "cell_type": "code",
   "execution_count": null,
   "id": "7c4f1900",
   "metadata": {},
   "outputs": [],
   "source": []
  },
  {
   "cell_type": "code",
   "execution_count": 11,
   "id": "3688f478",
   "metadata": {},
   "outputs": [],
   "source": [
    "train_data_gen=ImageDataGenerator(rescale=1.0/255)"
   ]
  },
  {
   "cell_type": "code",
   "execution_count": 12,
   "id": "5039d9e3",
   "metadata": {},
   "outputs": [
    {
     "name": "stdout",
     "output_type": "stream",
     "text": [
      "Found 9861 images belonging to 8 classes.\n"
     ]
    }
   ],
   "source": [
    "train_data_generater=train_data_gen.flow_from_directory(\n",
    "                                                    train_dir, \n",
    "                                                    target_size=(100,100),\n",
    "                                                    class_mode='categorical',              \n",
    "                                                    batch_size=128                    )"
   ]
  },
  {
   "cell_type": "code",
   "execution_count": 13,
   "id": "762c0496",
   "metadata": {},
   "outputs": [
    {
     "data": {
      "text/plain": [
       "8"
      ]
     },
     "execution_count": 13,
     "metadata": {},
     "output_type": "execute_result"
    }
   ],
   "source": [
    "train_data_generater.num_classes"
   ]
  },
  {
   "cell_type": "code",
   "execution_count": null,
   "id": "09919f6f",
   "metadata": {},
   "outputs": [],
   "source": []
  },
  {
   "cell_type": "code",
   "execution_count": 14,
   "id": "b8a6e969",
   "metadata": {},
   "outputs": [],
   "source": [
    "test_data_gen=ImageDataGenerator(rescale=1.0/255)"
   ]
  },
  {
   "cell_type": "code",
   "execution_count": 15,
   "id": "ecadb31f",
   "metadata": {},
   "outputs": [
    {
     "name": "stdout",
     "output_type": "stream",
     "text": [
      "Found 2461 images belonging to 8 classes.\n"
     ]
    }
   ],
   "source": [
    "test_data_generator=test_data_gen.flow_from_directory(test_dir, target_size=(100,100), class_mode='categorical', batch_size=128)"
   ]
  },
  {
   "cell_type": "markdown",
   "id": "a2e083b7",
   "metadata": {},
   "source": [
    "# Adding the early stopping"
   ]
  },
  {
   "cell_type": "code",
   "execution_count": 16,
   "id": "a7cf2ccd",
   "metadata": {},
   "outputs": [],
   "source": [
    "es=EarlyStopping(monitor=\"val_accuracy\", patience=2, min_delta=0.01)"
   ]
  },
  {
   "cell_type": "markdown",
   "id": "c86a98ec",
   "metadata": {},
   "source": [
    "# Training and validation"
   ]
  },
  {
   "cell_type": "code",
   "execution_count": 17,
   "id": "5ffd9361",
   "metadata": {},
   "outputs": [
    {
     "name": "stdout",
     "output_type": "stream",
     "text": [
      "Epoch 1/15\n",
      "78/78 [==============================] - 88s 1s/step - loss: 1.5016 - accuracy: 0.4800 - val_loss: 1.0264 - val_accuracy: 0.5022\n",
      "Epoch 2/15\n",
      "78/78 [==============================] - 30s 384ms/step - loss: 1.0265 - accuracy: 0.5397 - val_loss: 0.9488 - val_accuracy: 0.5729\n",
      "Epoch 3/15\n",
      "78/78 [==============================] - 30s 385ms/step - loss: 0.8615 - accuracy: 0.6889 - val_loss: 0.7747 - val_accuracy: 0.7298\n",
      "Epoch 4/15\n",
      "78/78 [==============================] - 30s 383ms/step - loss: 0.7832 - accuracy: 0.7165 - val_loss: 0.7280 - val_accuracy: 0.7452\n",
      "Epoch 5/15\n",
      "78/78 [==============================] - 30s 383ms/step - loss: 0.7558 - accuracy: 0.7338 - val_loss: 0.7428 - val_accuracy: 0.7473\n",
      "Epoch 6/15\n",
      "78/78 [==============================] - 30s 383ms/step - loss: 0.7136 - accuracy: 0.7503 - val_loss: 0.6922 - val_accuracy: 0.7611\n",
      "Epoch 7/15\n",
      "78/78 [==============================] - 30s 385ms/step - loss: 0.6983 - accuracy: 0.7513 - val_loss: 0.6806 - val_accuracy: 0.7720\n",
      "Epoch 8/15\n",
      "78/78 [==============================] - 30s 384ms/step - loss: 0.7032 - accuracy: 0.7487 - val_loss: 0.6939 - val_accuracy: 0.7761\n",
      "Epoch 9/15\n",
      "78/78 [==============================] - 30s 384ms/step - loss: 0.6802 - accuracy: 0.7627 - val_loss: 0.6597 - val_accuracy: 0.7712\n"
     ]
    },
    {
     "data": {
      "text/plain": [
       "<keras.callbacks.History at 0x2b11f521c70>"
      ]
     },
     "execution_count": 17,
     "metadata": {},
     "output_type": "execute_result"
    }
   ],
   "source": [
    "#model.fit_generator(train_data_generater, epochs=10, verbose=True, callbacks=[es])\n",
    "model.fit(train_data_generater, epochs=15, verbose=True, callbacks=[es], validation_data=test_data_generator)"
   ]
  },
  {
   "cell_type": "code",
   "execution_count": null,
   "id": "56b1a425",
   "metadata": {},
   "outputs": [],
   "source": []
  },
  {
   "cell_type": "code",
   "execution_count": null,
   "id": "458a408d",
   "metadata": {},
   "outputs": [],
   "source": []
  },
  {
   "cell_type": "code",
   "execution_count": null,
   "id": "28bf90c9",
   "metadata": {},
   "outputs": [],
   "source": []
  },
  {
   "cell_type": "code",
   "execution_count": null,
   "id": "8d50a654",
   "metadata": {},
   "outputs": [],
   "source": []
  },
  {
   "cell_type": "code",
   "execution_count": null,
   "id": "d15140f0",
   "metadata": {},
   "outputs": [],
   "source": []
  },
  {
   "cell_type": "code",
   "execution_count": null,
   "id": "bf2abafa",
   "metadata": {},
   "outputs": [],
   "source": []
  },
  {
   "cell_type": "code",
   "execution_count": null,
   "id": "330201d8",
   "metadata": {},
   "outputs": [],
   "source": []
  },
  {
   "cell_type": "code",
   "execution_count": null,
   "id": "2b8302b5",
   "metadata": {},
   "outputs": [],
   "source": []
  },
  {
   "cell_type": "code",
   "execution_count": null,
   "id": "862e09e0",
   "metadata": {},
   "outputs": [],
   "source": []
  },
  {
   "cell_type": "code",
   "execution_count": null,
   "id": "a9b5a047",
   "metadata": {},
   "outputs": [],
   "source": []
  },
  {
   "cell_type": "code",
   "execution_count": null,
   "id": "4a230b89",
   "metadata": {},
   "outputs": [],
   "source": []
  },
  {
   "cell_type": "code",
   "execution_count": null,
   "id": "e14df193",
   "metadata": {},
   "outputs": [],
   "source": []
  },
  {
   "cell_type": "code",
   "execution_count": null,
   "id": "8f72e276",
   "metadata": {},
   "outputs": [],
   "source": []
  },
  {
   "cell_type": "code",
   "execution_count": null,
   "id": "9d999c90",
   "metadata": {},
   "outputs": [],
   "source": []
  },
  {
   "cell_type": "code",
   "execution_count": null,
   "id": "23ccf3a2",
   "metadata": {},
   "outputs": [],
   "source": []
  },
  {
   "cell_type": "code",
   "execution_count": null,
   "id": "c4fc4e4c",
   "metadata": {},
   "outputs": [],
   "source": []
  },
  {
   "cell_type": "code",
   "execution_count": null,
   "id": "7664e8cf",
   "metadata": {},
   "outputs": [],
   "source": []
  },
  {
   "cell_type": "code",
   "execution_count": null,
   "id": "9c834107",
   "metadata": {},
   "outputs": [],
   "source": []
  },
  {
   "cell_type": "code",
   "execution_count": null,
   "id": "4aefef4e",
   "metadata": {},
   "outputs": [],
   "source": []
  },
  {
   "cell_type": "code",
   "execution_count": null,
   "id": "ca18504d",
   "metadata": {},
   "outputs": [],
   "source": [
    "\n"
   ]
  },
  {
   "cell_type": "code",
   "execution_count": null,
   "id": "d2336144",
   "metadata": {},
   "outputs": [],
   "source": []
  },
  {
   "cell_type": "code",
   "execution_count": null,
   "id": "35a4621d",
   "metadata": {},
   "outputs": [],
   "source": []
  }
 ],
 "metadata": {
  "kernelspec": {
   "display_name": "Python 3",
   "language": "python",
   "name": "python3"
  },
  "language_info": {
   "codemirror_mode": {
    "name": "ipython",
    "version": 3
   },
   "file_extension": ".py",
   "mimetype": "text/x-python",
   "name": "python",
   "nbconvert_exporter": "python",
   "pygments_lexer": "ipython3",
   "version": "3.8.8"
  }
 },
 "nbformat": 4,
 "nbformat_minor": 5
}
