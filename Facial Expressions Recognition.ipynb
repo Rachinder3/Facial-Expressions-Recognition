{
 "cells": [
  {
   "cell_type": "markdown",
   "id": "25015f47",
   "metadata": {},
   "source": [
    "# Loading the libraries"
   ]
  },
  {
   "cell_type": "code",
   "execution_count": 34,
   "id": "41da0b48",
   "metadata": {},
   "outputs": [],
   "source": [
    "import csv\n",
    "import pandas as pd\n",
    "import os\n",
    "from shutil import copyfile\n",
    "import tensorflow as tf\n",
    "from tensorflow.keras.preprocessing.image import ImageDataGenerator\n",
    "from tensorflow.keras.callbacks import EarlyStopping\n",
    "from tensorflow.keras.layers import Dense,Conv2D,MaxPool2D, Flatten\n",
    "from tensorflow.keras.optimizers import Adam"
   ]
  },
  {
   "cell_type": "markdown",
   "id": "190a71ae",
   "metadata": {},
   "source": [
    "# Creating Expression Image Dictionary"
   ]
  },
  {
   "cell_type": "code",
   "execution_count": 11,
   "id": "76b3d899",
   "metadata": {},
   "outputs": [],
   "source": [
    "data={}\n",
    "with open(\"data\\\\facial_expressions\\\\data\\\\legend.csv\") as f:\n",
    "    reader=csv.reader(f)\n",
    "    next(reader)\n",
    "    for row in reader:\n",
    "        key=row[2].lower()  \n",
    "        if key in data:\n",
    "            data[key].append(row[1])\n",
    "        else:\n",
    "            data[key]=[row[1]]\n",
    "    \n"
   ]
  },
  {
   "cell_type": "markdown",
   "id": "48d34039",
   "metadata": {},
   "source": [
    "# Creating and Populating Directories for ImageDataGenerator Class"
   ]
  },
  {
   "cell_type": "markdown",
   "id": "102398da",
   "metadata": {},
   "source": [
    "### Total number of categories"
   ]
  },
  {
   "cell_type": "code",
   "execution_count": 12,
   "id": "3038b7e3",
   "metadata": {},
   "outputs": [
    {
     "data": {
      "text/plain": [
       "dict_keys(['anger', 'surprise', 'disgust', 'fear', 'neutral', 'happiness', 'sadness', 'contempt'])"
      ]
     },
     "execution_count": 12,
     "metadata": {},
     "output_type": "execute_result"
    }
   ],
   "source": [
    "data.keys()"
   ]
  },
  {
   "cell_type": "markdown",
   "id": "f2225642",
   "metadata": {},
   "source": [
    "### Making the directories"
   ]
  },
  {
   "cell_type": "code",
   "execution_count": 13,
   "id": "4dbbab84",
   "metadata": {},
   "outputs": [],
   "source": [
    "os.mkdir('master_data')\n",
    "os.mkdir('master_data/training')\n",
    "os.mkdir('master_data/testing')"
   ]
  },
  {
   "cell_type": "code",
   "execution_count": 16,
   "id": "3b096f17",
   "metadata": {},
   "outputs": [],
   "source": [
    "for emotion in data.keys():\n",
    "    os.mkdir(os.path.join('master_data/training',emotion))\n",
    "    os.mkdir(os.path.join('master_data/testing', emotion))\n",
    "    "
   ]
  },
  {
   "cell_type": "markdown",
   "id": "dede485b",
   "metadata": {},
   "source": [
    "# Copying the files"
   ]
  },
  {
   "cell_type": "code",
   "execution_count": 26,
   "id": "0f8413dc",
   "metadata": {},
   "outputs": [],
   "source": [
    "split_size=0.8\n",
    "\n",
    "for emotion, images in data.items():\n",
    "    train_size= int(split_size*len(images))\n",
    "    train_images=images[:train_size]\n",
    "    test_images=images[train_size:]\n",
    "    \n",
    "    for image in train_images:\n",
    "        source= os.path.join('data\\\\facial_expressions\\\\images',image)\n",
    "        #print(source)\n",
    "        destination=os.path.join('master_data\\\\training',emotion,image)\n",
    "        #print(destination)\n",
    "        copyfile(source,destination)\n",
    "    \n",
    "    for image in test_images:\n",
    "        source= os.path.join('data\\\\facial_expressions\\\\images',image)\n",
    "        #print(source)\n",
    "        destination=os.path.join('master_data\\\\testing',emotion,image)\n",
    "        #print(destination)\n",
    "        copyfile(source,destination)        \n"
   ]
  },
  {
   "cell_type": "markdown",
   "id": "7ec9b9dd",
   "metadata": {},
   "source": [
    "# Creating the model"
   ]
  },
  {
   "cell_type": "code",
   "execution_count": 29,
   "id": "de9330af",
   "metadata": {},
   "outputs": [],
   "source": []
  },
  {
   "cell_type": "code",
   "execution_count": 41,
   "id": "5ceddea7",
   "metadata": {},
   "outputs": [],
   "source": [
    "model=tf.keras.models.Sequential([\n",
    "    Conv2D(16, (3,3), activation='relu', input_shape=(100,100,3)),\n",
    "    MaxPool2D(2,2),\n",
    "    Conv2D(32, (3,3), activation='relu'),\n",
    "    MaxPool2D(2,2),\n",
    "    Conv2D(64, (3,3), activation='relu'),\n",
    "    MaxPool2D(2,2),\n",
    "    Flatten(),\n",
    "    Dense(1024, activation='relu'),\n",
    "    Dense(8, activation='softmax')\n",
    "    \n",
    "])"
   ]
  },
  {
   "cell_type": "code",
   "execution_count": 42,
   "id": "422c0a4e",
   "metadata": {},
   "outputs": [],
   "source": [
    "model.compile(optimizer=Adam(learning_rate=0.01),loss='categorical_crossentropy',metrics=['accuracy'])"
   ]
  },
  {
   "cell_type": "code",
   "execution_count": null,
   "id": "042e99df",
   "metadata": {},
   "outputs": [],
   "source": []
  },
  {
   "cell_type": "code",
   "execution_count": 43,
   "id": "c713bc55",
   "metadata": {},
   "outputs": [
    {
     "name": "stdout",
     "output_type": "stream",
     "text": [
      "Model: \"sequential_1\"\n",
      "_________________________________________________________________\n",
      "Layer (type)                 Output Shape              Param #   \n",
      "=================================================================\n",
      "conv2d_3 (Conv2D)            (None, 98, 98, 16)        448       \n",
      "_________________________________________________________________\n",
      "max_pooling2d_2 (MaxPooling2 (None, 49, 49, 16)        0         \n",
      "_________________________________________________________________\n",
      "conv2d_4 (Conv2D)            (None, 47, 47, 32)        4640      \n",
      "_________________________________________________________________\n",
      "max_pooling2d_3 (MaxPooling2 (None, 23, 23, 32)        0         \n",
      "_________________________________________________________________\n",
      "conv2d_5 (Conv2D)            (None, 21, 21, 64)        18496     \n",
      "_________________________________________________________________\n",
      "max_pooling2d_4 (MaxPooling2 (None, 10, 10, 64)        0         \n",
      "_________________________________________________________________\n",
      "flatten_1 (Flatten)          (None, 6400)              0         \n",
      "_________________________________________________________________\n",
      "dense_2 (Dense)              (None, 1024)              6554624   \n",
      "_________________________________________________________________\n",
      "dense_3 (Dense)              (None, 8)                 8200      \n",
      "=================================================================\n",
      "Total params: 6,586,408\n",
      "Trainable params: 6,586,408\n",
      "Non-trainable params: 0\n",
      "_________________________________________________________________\n"
     ]
    }
   ],
   "source": [
    "model.summary()"
   ]
  },
  {
   "cell_type": "code",
   "execution_count": null,
   "id": "c1e4f714",
   "metadata": {},
   "outputs": [],
   "source": []
  }
 ],
 "metadata": {
  "kernelspec": {
   "display_name": "Python 3",
   "language": "python",
   "name": "python3"
  },
  "language_info": {
   "codemirror_mode": {
    "name": "ipython",
    "version": 3
   },
   "file_extension": ".py",
   "mimetype": "text/x-python",
   "name": "python",
   "nbconvert_exporter": "python",
   "pygments_lexer": "ipython3",
   "version": "3.8.8"
  }
 },
 "nbformat": 4,
 "nbformat_minor": 5
}
