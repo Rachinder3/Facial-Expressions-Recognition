{
 "cells": [
  {
   "cell_type": "markdown",
   "id": "de553289",
   "metadata": {},
   "source": [
    "# Loading the libraries"
   ]
  },
  {
   "cell_type": "code",
   "execution_count": 34,
   "id": "563e1542",
   "metadata": {},
   "outputs": [],
   "source": [
    "import csv\n",
    "import pandas as pd\n",
    "import os\n",
    "from shutil import copyfile\n",
    "import tensorflow as tf\n",
    "from tensorflow.keras.preprocessing.image import ImageDataGenerator\n",
    "from tensorflow.keras.callbacks import EarlyStopping\n",
    "from tensorflow.keras.layers import Dense,Conv2D,MaxPool2D, Flatten\n",
    "from tensorflow.keras.optimizers import Adam"
   ]
  },
  {
   "cell_type": "markdown",
   "id": "90b308ac",
   "metadata": {},
   "source": [
    "# Creating Expression Image Dictionary"
   ]
  },
  {
   "cell_type": "code",
   "execution_count": 11,
   "id": "91dc9652",
   "metadata": {},
   "outputs": [],
   "source": [
    "data={}\n",
    "with open(\"data\\\\facial_expressions\\\\data\\\\legend.csv\") as f:\n",
    "    reader=csv.reader(f)\n",
    "    next(reader)\n",
    "    for row in reader:\n",
    "        key=row[2].lower()  \n",
    "        if key in data:\n",
    "            data[key].append(row[1])\n",
    "        else:\n",
    "            data[key]=[row[1]]\n",
    "    \n"
   ]
  },
  {
   "cell_type": "markdown",
   "id": "d1931de3",
   "metadata": {},
   "source": [
    "# Creating and Populating Directories for ImageDataGenerator Class"
   ]
  },
  {
   "cell_type": "markdown",
   "id": "c676f82d",
   "metadata": {},
   "source": [
    "### Total number of categories"
   ]
  },
  {
   "cell_type": "code",
   "execution_count": 12,
   "id": "2715e51e",
   "metadata": {},
   "outputs": [
    {
     "data": {
      "text/plain": [
       "dict_keys(['anger', 'surprise', 'disgust', 'fear', 'neutral', 'happiness', 'sadness', 'contempt'])"
      ]
     },
     "execution_count": 12,
     "metadata": {},
     "output_type": "execute_result"
    }
   ],
   "source": [
    "data.keys()"
   ]
  },
  {
   "cell_type": "markdown",
   "id": "a57072e6",
   "metadata": {},
   "source": [
    "### Making the directories"
   ]
  },
  {
   "cell_type": "code",
   "execution_count": 13,
   "id": "702e5211",
   "metadata": {},
   "outputs": [],
   "source": [
    "os.mkdir('master_data')\n",
    "os.mkdir('master_data/training')\n",
    "os.mkdir('master_data/testing')"
   ]
  },
  {
   "cell_type": "code",
   "execution_count": 16,
   "id": "88576568",
   "metadata": {},
   "outputs": [],
   "source": [
    "for emotion in data.keys():\n",
    "    os.mkdir(os.path.join('master_data/training',emotion))\n",
    "    os.mkdir(os.path.join('master_data/testing', emotion))\n",
    "    "
   ]
  },
  {
   "cell_type": "markdown",
   "id": "c1f7faa5",
   "metadata": {},
   "source": [
    "# Copying the files"
   ]
  },
  {
   "cell_type": "code",
   "execution_count": 26,
   "id": "776d275a",
   "metadata": {},
   "outputs": [],
   "source": [
    "split_size=0.8\n",
    "\n",
    "for emotion, images in data.items():\n",
    "    train_size= int(split_size*len(images))\n",
    "    train_images=images[:train_size]\n",
    "    test_images=images[train_size:]\n",
    "    \n",
    "    for image in train_images:\n",
    "        source= os.path.join('data\\\\facial_expressions\\\\images',image)\n",
    "        #print(source)\n",
    "        destination=os.path.join('master_data\\\\training',emotion,image)\n",
    "        #print(destination)\n",
    "        copyfile(source,destination)\n",
    "    \n",
    "    for image in test_images:\n",
    "        source= os.path.join('data\\\\facial_expressions\\\\images',image)\n",
    "        #print(source)\n",
    "        destination=os.path.join('master_data\\\\testing',emotion,image)\n",
    "        #print(destination)\n",
    "        copyfile(source,destination)        \n"
   ]
  },
  {
   "cell_type": "markdown",
   "id": "10a32aea",
   "metadata": {},
   "source": [
    "# Creating the model"
   ]
  },
  {
   "cell_type": "code",
   "execution_count": 29,
   "id": "440f110c",
   "metadata": {},
   "outputs": [],
   "source": []
  },
  {
   "cell_type": "code",
   "execution_count": 36,
   "id": "c053637c",
   "metadata": {},
   "outputs": [],
   "source": [
    "model=tf.keras.models.Sequential([\n",
    "    Conv2D(16, (3,3), activation='relu', input_shape=(100,100,3)),\n",
    "    MaxPool2D(2,2),\n",
    "    Conv2D(32, (3,3), activation='relu'),\n",
    "    MaxPool2D(2,2),\n",
    "    Conv2D(64, (3,3), activation='relu'),\n",
    "    Flatten(),\n",
    "    Dense(1024, activation='relu'),\n",
    "    Dense(8, activation='softmax')\n",
    "    \n",
    "])"
   ]
  },
  {
   "cell_type": "code",
   "execution_count": 39,
   "id": "d9acc385",
   "metadata": {},
   "outputs": [],
   "source": [
    "model.compile(optimizer=Adam(learning_rate=0.01),loss='categorical_crossentropy',metrics=['accuracy'])"
   ]
  },
  {
   "cell_type": "code",
   "execution_count": 38,
   "id": "f2e19883",
   "metadata": {},
   "outputs": [],
   "source": []
  },
  {
   "cell_type": "code",
   "execution_count": 40,
   "id": "610fb53f",
   "metadata": {},
   "outputs": [
    {
     "name": "stdout",
     "output_type": "stream",
     "text": [
      "Model: \"sequential\"\n",
      "_________________________________________________________________\n",
      "Layer (type)                 Output Shape              Param #   \n",
      "=================================================================\n",
      "conv2d (Conv2D)              (None, 98, 98, 16)        448       \n",
      "_________________________________________________________________\n",
      "max_pooling2d (MaxPooling2D) (None, 49, 49, 16)        0         \n",
      "_________________________________________________________________\n",
      "conv2d_1 (Conv2D)            (None, 47, 47, 32)        4640      \n",
      "_________________________________________________________________\n",
      "max_pooling2d_1 (MaxPooling2 (None, 23, 23, 32)        0         \n",
      "_________________________________________________________________\n",
      "conv2d_2 (Conv2D)            (None, 21, 21, 64)        18496     \n",
      "_________________________________________________________________\n",
      "flatten (Flatten)            (None, 28224)             0         \n",
      "_________________________________________________________________\n",
      "dense (Dense)                (None, 1024)              28902400  \n",
      "_________________________________________________________________\n",
      "dense_1 (Dense)              (None, 8)                 8200      \n",
      "=================================================================\n",
      "Total params: 28,934,184\n",
      "Trainable params: 28,934,184\n",
      "Non-trainable params: 0\n",
      "_________________________________________________________________\n"
     ]
    }
   ],
   "source": [
    "model.summary()"
   ]
  },
  {
   "cell_type": "code",
   "execution_count": null,
   "id": "a7055d95",
   "metadata": {},
   "outputs": [],
   "source": []
  }
 ],
 "metadata": {
  "kernelspec": {
   "display_name": "Python 3",
   "language": "python",
   "name": "python3"
  },
  "language_info": {
   "codemirror_mode": {
    "name": "ipython",
    "version": 3
   },
   "file_extension": ".py",
   "mimetype": "text/x-python",
   "name": "python",
   "nbconvert_exporter": "python",
   "pygments_lexer": "ipython3",
   "version": "3.8.8"
  }
 },
 "nbformat": 4,
 "nbformat_minor": 5
}
