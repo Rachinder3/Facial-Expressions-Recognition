{
 "cells": [
  {
   "cell_type": "markdown",
   "id": "81d3aee9",
   "metadata": {},
   "source": [
    "# Loading the libraries"
   ]
  },
  {
   "cell_type": "code",
   "execution_count": 291,
   "id": "8e68d25f",
   "metadata": {},
   "outputs": [],
   "source": [
    "import csv\n",
    "import pandas as pd\n",
    "import os\n",
    "from shutil import copyfile\n",
    "import tensorflow as tf\n",
    "from tensorflow.keras.preprocessing.image import ImageDataGenerator\n",
    "from tensorflow.keras.callbacks import EarlyStopping\n",
    "from tensorflow.keras.layers import Dense,Conv2D,MaxPool2D, Flatten\n",
    "from tensorflow.keras.optimizers import Adam\n",
    "import random\n",
    "import numpy as np\n",
    "from tensorflow.keras.applications import VGG16\n",
    "from tensorflow.keras.applications import vgg16\n",
    "from tensorflow.keras import Model"
   ]
  },
  {
   "cell_type": "markdown",
   "id": "f2cfb568",
   "metadata": {},
   "source": [
    "# Creating Expression Image Dictionary"
   ]
  },
  {
   "cell_type": "code",
   "execution_count": 2,
   "id": "61582240",
   "metadata": {},
   "outputs": [],
   "source": [
    "data={}\n",
    "with open(\"data\\\\facial_expressions\\\\data\\\\legend.csv\") as f:\n",
    "    reader=csv.reader(f)\n",
    "    next(reader)\n",
    "    for row in reader:\n",
    "        key=row[2].lower()  \n",
    "        if key in data:\n",
    "            data[key].append(row[1])\n",
    "        else:\n",
    "            data[key]=[row[1]]\n",
    "    \n"
   ]
  },
  {
   "cell_type": "markdown",
   "id": "0c48b092",
   "metadata": {},
   "source": [
    "# Creating and Populating Directories for ImageDataGenerator Class"
   ]
  },
  {
   "cell_type": "markdown",
   "id": "02be2720",
   "metadata": {},
   "source": [
    "### Total number of categories"
   ]
  },
  {
   "cell_type": "code",
   "execution_count": 3,
   "id": "6ef4697c",
   "metadata": {},
   "outputs": [
    {
     "data": {
      "text/plain": [
       "dict_keys(['anger', 'surprise', 'disgust', 'fear', 'neutral', 'happiness', 'sadness', 'contempt'])"
      ]
     },
     "execution_count": 3,
     "metadata": {},
     "output_type": "execute_result"
    }
   ],
   "source": [
    "data.keys()"
   ]
  },
  {
   "cell_type": "markdown",
   "id": "3dc4e894",
   "metadata": {},
   "source": [
    "### Making the directories"
   ]
  },
  {
   "cell_type": "code",
   "execution_count": 4,
   "id": "e60b76ff",
   "metadata": {},
   "outputs": [],
   "source": [
    "os.mkdir('master_data')\n",
    "os.mkdir('master_data/training')\n",
    "os.mkdir('master_data/testing')"
   ]
  },
  {
   "cell_type": "code",
   "execution_count": 5,
   "id": "4c0d22e3",
   "metadata": {},
   "outputs": [],
   "source": [
    "for emotion in data.keys():\n",
    "    os.mkdir(os.path.join('master_data/training/',emotion))\n",
    "    os.mkdir(os.path.join('master_data/testing/', emotion))\n",
    "    "
   ]
  },
  {
   "cell_type": "markdown",
   "id": "209a0830",
   "metadata": {},
   "source": [
    "# Copying the files"
   ]
  },
  {
   "cell_type": "code",
   "execution_count": null,
   "id": "62108947",
   "metadata": {},
   "outputs": [],
   "source": []
  },
  {
   "cell_type": "code",
   "execution_count": 6,
   "id": "47ffe9f0",
   "metadata": {},
   "outputs": [],
   "source": [
    "split_size=0.2\n",
    "faulty_images_fix=0.1  \n",
    "\n",
    "\n",
    "for emotion, images in data.items():\n",
    "    temp=int(faulty_images_fix*len(images))\n",
    "    images=images[temp:]\n",
    "    \n",
    "    \n",
    "    random.shuffle(images)\n",
    "    test_size= int(split_size*len(images))\n",
    "    \n",
    "    test_images=images[:test_size]  # First 20 % images are for testing\n",
    "    train_images=images[test_size:]  #  Last 80% images are for training\n",
    "    \n",
    "    \n",
    "    for image in train_images:\n",
    "        source= os.path.join('data\\\\facial_expressions\\\\images',image)\n",
    "        #print(source)\n",
    "        destination=os.path.join('master_data\\\\training',emotion,image)\n",
    "        #print(destination)\n",
    "        copyfile(source,destination)\n",
    "    \n",
    "    for image in test_images:\n",
    "        source= os.path.join('data\\\\facial_expressions\\\\images',image)\n",
    "        #print(source)\n",
    "        destination=os.path.join('master_data\\\\testing',emotion,image)\n",
    "        #print(destination)\n",
    "        copyfile(source,destination)        \n"
   ]
  },
  {
   "cell_type": "markdown",
   "id": "05ae8f0a",
   "metadata": {},
   "source": [
    "# Creating the model"
   ]
  },
  {
   "cell_type": "code",
   "execution_count": null,
   "id": "e0ee7ec8",
   "metadata": {},
   "outputs": [],
   "source": []
  },
  {
   "cell_type": "code",
   "execution_count": 7,
   "id": "22555c02",
   "metadata": {},
   "outputs": [],
   "source": [
    "model=tf.keras.models.Sequential([\n",
    "    Conv2D(16, (3,3), activation='relu', input_shape=(100,100,3)),\n",
    "    MaxPool2D(2,2),\n",
    "    Conv2D(32, (3,3), activation='relu'),\n",
    "    MaxPool2D(2,2),\n",
    "    Conv2D(64, (3,3), activation='relu'),\n",
    "    MaxPool2D(2,2),\n",
    "    Flatten(),\n",
    "    Dense(1024, activation='relu'),\n",
    "    Dense(8, activation='softmax')\n",
    "    \n",
    "])"
   ]
  },
  {
   "cell_type": "code",
   "execution_count": 8,
   "id": "8bd52365",
   "metadata": {},
   "outputs": [],
   "source": [
    "model.compile(optimizer=Adam(learning_rate=0.01),loss='categorical_crossentropy',metrics=['accuracy'])"
   ]
  },
  {
   "cell_type": "code",
   "execution_count": null,
   "id": "c12f4324",
   "metadata": {},
   "outputs": [],
   "source": []
  },
  {
   "cell_type": "code",
   "execution_count": 9,
   "id": "36d077e7",
   "metadata": {},
   "outputs": [
    {
     "name": "stdout",
     "output_type": "stream",
     "text": [
      "Model: \"sequential\"\n",
      "_________________________________________________________________\n",
      "Layer (type)                 Output Shape              Param #   \n",
      "=================================================================\n",
      "conv2d (Conv2D)              (None, 98, 98, 16)        448       \n",
      "_________________________________________________________________\n",
      "max_pooling2d (MaxPooling2D) (None, 49, 49, 16)        0         \n",
      "_________________________________________________________________\n",
      "conv2d_1 (Conv2D)            (None, 47, 47, 32)        4640      \n",
      "_________________________________________________________________\n",
      "max_pooling2d_1 (MaxPooling2 (None, 23, 23, 32)        0         \n",
      "_________________________________________________________________\n",
      "conv2d_2 (Conv2D)            (None, 21, 21, 64)        18496     \n",
      "_________________________________________________________________\n",
      "max_pooling2d_2 (MaxPooling2 (None, 10, 10, 64)        0         \n",
      "_________________________________________________________________\n",
      "flatten (Flatten)            (None, 6400)              0         \n",
      "_________________________________________________________________\n",
      "dense (Dense)                (None, 1024)              6554624   \n",
      "_________________________________________________________________\n",
      "dense_1 (Dense)              (None, 8)                 8200      \n",
      "=================================================================\n",
      "Total params: 6,586,408\n",
      "Trainable params: 6,586,408\n",
      "Non-trainable params: 0\n",
      "_________________________________________________________________\n"
     ]
    }
   ],
   "source": [
    "model.summary()"
   ]
  },
  {
   "cell_type": "markdown",
   "id": "573bb41c",
   "metadata": {},
   "source": [
    "# Using Image DataGenerator Class"
   ]
  },
  {
   "cell_type": "code",
   "execution_count": 10,
   "id": "bbd185ed",
   "metadata": {},
   "outputs": [],
   "source": [
    "# data source\n",
    "train_dir=\"master_data\\\\training\"\n",
    "test_dir=\"master_data\\\\testing\""
   ]
  },
  {
   "cell_type": "code",
   "execution_count": null,
   "id": "ca2051f3",
   "metadata": {},
   "outputs": [],
   "source": []
  },
  {
   "cell_type": "code",
   "execution_count": 11,
   "id": "73344c73",
   "metadata": {},
   "outputs": [],
   "source": [
    "train_data_gen=ImageDataGenerator(rescale=1.0/255)"
   ]
  },
  {
   "cell_type": "code",
   "execution_count": 12,
   "id": "1a833637",
   "metadata": {},
   "outputs": [
    {
     "name": "stdout",
     "output_type": "stream",
     "text": [
      "Found 9861 images belonging to 8 classes.\n"
     ]
    }
   ],
   "source": [
    "train_data_generater=train_data_gen.flow_from_directory(\n",
    "                                                    train_dir, \n",
    "                                                    target_size=(100,100),\n",
    "                                                    class_mode='categorical',              \n",
    "                                                    batch_size=128                    )"
   ]
  },
  {
   "cell_type": "code",
   "execution_count": 13,
   "id": "a72ffbcc",
   "metadata": {},
   "outputs": [
    {
     "data": {
      "text/plain": [
       "8"
      ]
     },
     "execution_count": 13,
     "metadata": {},
     "output_type": "execute_result"
    }
   ],
   "source": [
    "train_data_generater.num_classes"
   ]
  },
  {
   "cell_type": "code",
   "execution_count": null,
   "id": "0f977d0e",
   "metadata": {},
   "outputs": [],
   "source": []
  },
  {
   "cell_type": "code",
   "execution_count": 14,
   "id": "8709c68b",
   "metadata": {},
   "outputs": [],
   "source": [
    "test_data_gen=ImageDataGenerator(rescale=1.0/255)"
   ]
  },
  {
   "cell_type": "code",
   "execution_count": 15,
   "id": "4084a59d",
   "metadata": {},
   "outputs": [
    {
     "name": "stdout",
     "output_type": "stream",
     "text": [
      "Found 2461 images belonging to 8 classes.\n"
     ]
    }
   ],
   "source": [
    "test_data_generator=test_data_gen.flow_from_directory(test_dir, target_size=(100,100), class_mode='categorical', batch_size=128)"
   ]
  },
  {
   "cell_type": "markdown",
   "id": "f851aec2",
   "metadata": {},
   "source": [
    "# Adding the early stopping"
   ]
  },
  {
   "cell_type": "code",
   "execution_count": 16,
   "id": "2aa4f000",
   "metadata": {},
   "outputs": [],
   "source": [
    "es=EarlyStopping(monitor=\"val_accuracy\", patience=2, min_delta=0.01)"
   ]
  },
  {
   "cell_type": "markdown",
   "id": "a7d6910e",
   "metadata": {},
   "source": [
    "# Training and validation"
   ]
  },
  {
   "cell_type": "code",
   "execution_count": 17,
   "id": "acc7c63e",
   "metadata": {
    "scrolled": true
   },
   "outputs": [
    {
     "name": "stdout",
     "output_type": "stream",
     "text": [
      "Epoch 1/15\n",
      "78/78 [==============================] - 88s 1s/step - loss: 1.5016 - accuracy: 0.4800 - val_loss: 1.0264 - val_accuracy: 0.5022\n",
      "Epoch 2/15\n",
      "78/78 [==============================] - 30s 384ms/step - loss: 1.0265 - accuracy: 0.5397 - val_loss: 0.9488 - val_accuracy: 0.5729\n",
      "Epoch 3/15\n",
      "78/78 [==============================] - 30s 385ms/step - loss: 0.8615 - accuracy: 0.6889 - val_loss: 0.7747 - val_accuracy: 0.7298\n",
      "Epoch 4/15\n",
      "78/78 [==============================] - 30s 383ms/step - loss: 0.7832 - accuracy: 0.7165 - val_loss: 0.7280 - val_accuracy: 0.7452\n",
      "Epoch 5/15\n",
      "78/78 [==============================] - 30s 383ms/step - loss: 0.7558 - accuracy: 0.7338 - val_loss: 0.7428 - val_accuracy: 0.7473\n",
      "Epoch 6/15\n",
      "78/78 [==============================] - 30s 383ms/step - loss: 0.7136 - accuracy: 0.7503 - val_loss: 0.6922 - val_accuracy: 0.7611\n",
      "Epoch 7/15\n",
      "78/78 [==============================] - 30s 385ms/step - loss: 0.6983 - accuracy: 0.7513 - val_loss: 0.6806 - val_accuracy: 0.7720\n",
      "Epoch 8/15\n",
      "78/78 [==============================] - 30s 384ms/step - loss: 0.7032 - accuracy: 0.7487 - val_loss: 0.6939 - val_accuracy: 0.7761\n",
      "Epoch 9/15\n",
      "78/78 [==============================] - 30s 384ms/step - loss: 0.6802 - accuracy: 0.7627 - val_loss: 0.6597 - val_accuracy: 0.7712\n"
     ]
    },
    {
     "data": {
      "text/plain": [
       "<keras.callbacks.History at 0x2b11f521c70>"
      ]
     },
     "execution_count": 17,
     "metadata": {},
     "output_type": "execute_result"
    }
   ],
   "source": [
    "#model.fit_generator(train_data_generater, epochs=10, verbose=True, callbacks=[es])\n",
    "model.fit(train_data_generater, epochs=15, verbose=True, callbacks=[es], validation_data=test_data_generator)"
   ]
  },
  {
   "cell_type": "markdown",
   "id": "f2217e8d",
   "metadata": {},
   "source": [
    "### We are getting 77% validation accuracy"
   ]
  },
  {
   "cell_type": "code",
   "execution_count": null,
   "id": "6260d3c5",
   "metadata": {},
   "outputs": [],
   "source": []
  },
  {
   "cell_type": "markdown",
   "id": "b2a61b46",
   "metadata": {},
   "source": [
    "# Using Transfer Learning"
   ]
  },
  {
   "cell_type": "code",
   "execution_count": null,
   "id": "d524d047",
   "metadata": {},
   "outputs": [],
   "source": [
    "keras.applications.vgg16.preprocess_input"
   ]
  },
  {
   "cell_type": "code",
   "execution_count": null,
   "id": "6a0e2d74",
   "metadata": {},
   "outputs": [],
   "source": []
  },
  {
   "cell_type": "code",
   "execution_count": 281,
   "id": "f22cfbae",
   "metadata": {},
   "outputs": [],
   "source": [
    "Input_Shape=(224,224)"
   ]
  },
  {
   "cell_type": "code",
   "execution_count": null,
   "id": "c0147b16",
   "metadata": {},
   "outputs": [],
   "source": []
  },
  {
   "cell_type": "code",
   "execution_count": 284,
   "id": "e2eb8423",
   "metadata": {},
   "outputs": [
    {
     "name": "stdout",
     "output_type": "stream",
     "text": [
      "Downloading data from https://storage.googleapis.com/tensorflow/keras-applications/vgg16/vgg16_weights_tf_dim_ordering_tf_kernels_notop.h5\n",
      "58892288/58889256 [==============================] - 6s 0us/step\n",
      "58900480/58889256 [==============================] - 6s 0us/step\n"
     ]
    }
   ],
   "source": [
    "vgg=VGG16(include_top=False, input_shape=Input_Shape+(3,))"
   ]
  },
  {
   "cell_type": "code",
   "execution_count": 286,
   "id": "a2cd1eab",
   "metadata": {},
   "outputs": [
    {
     "name": "stdout",
     "output_type": "stream",
     "text": [
      "Model: \"vgg16\"\n",
      "_________________________________________________________________\n",
      "Layer (type)                 Output Shape              Param #   \n",
      "=================================================================\n",
      "input_1 (InputLayer)         [(None, 224, 224, 3)]     0         \n",
      "_________________________________________________________________\n",
      "block1_conv1 (Conv2D)        (None, 224, 224, 64)      1792      \n",
      "_________________________________________________________________\n",
      "block1_conv2 (Conv2D)        (None, 224, 224, 64)      36928     \n",
      "_________________________________________________________________\n",
      "block1_pool (MaxPooling2D)   (None, 112, 112, 64)      0         \n",
      "_________________________________________________________________\n",
      "block2_conv1 (Conv2D)        (None, 112, 112, 128)     73856     \n",
      "_________________________________________________________________\n",
      "block2_conv2 (Conv2D)        (None, 112, 112, 128)     147584    \n",
      "_________________________________________________________________\n",
      "block2_pool (MaxPooling2D)   (None, 56, 56, 128)       0         \n",
      "_________________________________________________________________\n",
      "block3_conv1 (Conv2D)        (None, 56, 56, 256)       295168    \n",
      "_________________________________________________________________\n",
      "block3_conv2 (Conv2D)        (None, 56, 56, 256)       590080    \n",
      "_________________________________________________________________\n",
      "block3_conv3 (Conv2D)        (None, 56, 56, 256)       590080    \n",
      "_________________________________________________________________\n",
      "block3_pool (MaxPooling2D)   (None, 28, 28, 256)       0         \n",
      "_________________________________________________________________\n",
      "block4_conv1 (Conv2D)        (None, 28, 28, 512)       1180160   \n",
      "_________________________________________________________________\n",
      "block4_conv2 (Conv2D)        (None, 28, 28, 512)       2359808   \n",
      "_________________________________________________________________\n",
      "block4_conv3 (Conv2D)        (None, 28, 28, 512)       2359808   \n",
      "_________________________________________________________________\n",
      "block4_pool (MaxPooling2D)   (None, 14, 14, 512)       0         \n",
      "_________________________________________________________________\n",
      "block5_conv1 (Conv2D)        (None, 14, 14, 512)       2359808   \n",
      "_________________________________________________________________\n",
      "block5_conv2 (Conv2D)        (None, 14, 14, 512)       2359808   \n",
      "_________________________________________________________________\n",
      "block5_conv3 (Conv2D)        (None, 14, 14, 512)       2359808   \n",
      "_________________________________________________________________\n",
      "block5_pool (MaxPooling2D)   (None, 7, 7, 512)         0         \n",
      "=================================================================\n",
      "Total params: 14,714,688\n",
      "Trainable params: 14,714,688\n",
      "Non-trainable params: 0\n",
      "_________________________________________________________________\n"
     ]
    }
   ],
   "source": [
    "vgg.summary()"
   ]
  },
  {
   "cell_type": "code",
   "execution_count": null,
   "id": "f3e3a0ab",
   "metadata": {},
   "outputs": [],
   "source": []
  },
  {
   "cell_type": "code",
   "execution_count": 287,
   "id": "66e4c3c4",
   "metadata": {},
   "outputs": [],
   "source": [
    "for layer in vgg.layers:\n",
    "    layer.trainable=False"
   ]
  },
  {
   "cell_type": "markdown",
   "id": "6803ffdc",
   "metadata": {},
   "source": [
    "#### Adding the last layers"
   ]
  },
  {
   "cell_type": "code",
   "execution_count": 288,
   "id": "e43894aa",
   "metadata": {},
   "outputs": [],
   "source": [
    "x=Flatten()(vgg.output)"
   ]
  },
  {
   "cell_type": "code",
   "execution_count": 289,
   "id": "be345930",
   "metadata": {},
   "outputs": [
    {
     "data": {
      "text/plain": [
       "dict_keys(['anger', 'surprise', 'disgust', 'fear', 'neutral', 'happiness', 'sadness', 'contempt'])"
      ]
     },
     "execution_count": 289,
     "metadata": {},
     "output_type": "execute_result"
    }
   ],
   "source": [
    "data.keys()"
   ]
  },
  {
   "cell_type": "code",
   "execution_count": 290,
   "id": "be8c6411",
   "metadata": {},
   "outputs": [],
   "source": [
    "prediction=Dense(8,activation='softmax')(x)"
   ]
  },
  {
   "cell_type": "markdown",
   "id": "9a01dde9",
   "metadata": {},
   "source": [
    "#### Creating the model object"
   ]
  },
  {
   "cell_type": "code",
   "execution_count": 292,
   "id": "4c1fb8f0",
   "metadata": {},
   "outputs": [],
   "source": [
    "model=Model(inputs=vgg.input,outputs=prediction)"
   ]
  },
  {
   "cell_type": "code",
   "execution_count": 293,
   "id": "4ff121f5",
   "metadata": {},
   "outputs": [
    {
     "name": "stdout",
     "output_type": "stream",
     "text": [
      "Model: \"model\"\n",
      "_________________________________________________________________\n",
      "Layer (type)                 Output Shape              Param #   \n",
      "=================================================================\n",
      "input_1 (InputLayer)         [(None, 224, 224, 3)]     0         \n",
      "_________________________________________________________________\n",
      "block1_conv1 (Conv2D)        (None, 224, 224, 64)      1792      \n",
      "_________________________________________________________________\n",
      "block1_conv2 (Conv2D)        (None, 224, 224, 64)      36928     \n",
      "_________________________________________________________________\n",
      "block1_pool (MaxPooling2D)   (None, 112, 112, 64)      0         \n",
      "_________________________________________________________________\n",
      "block2_conv1 (Conv2D)        (None, 112, 112, 128)     73856     \n",
      "_________________________________________________________________\n",
      "block2_conv2 (Conv2D)        (None, 112, 112, 128)     147584    \n",
      "_________________________________________________________________\n",
      "block2_pool (MaxPooling2D)   (None, 56, 56, 128)       0         \n",
      "_________________________________________________________________\n",
      "block3_conv1 (Conv2D)        (None, 56, 56, 256)       295168    \n",
      "_________________________________________________________________\n",
      "block3_conv2 (Conv2D)        (None, 56, 56, 256)       590080    \n",
      "_________________________________________________________________\n",
      "block3_conv3 (Conv2D)        (None, 56, 56, 256)       590080    \n",
      "_________________________________________________________________\n",
      "block3_pool (MaxPooling2D)   (None, 28, 28, 256)       0         \n",
      "_________________________________________________________________\n",
      "block4_conv1 (Conv2D)        (None, 28, 28, 512)       1180160   \n",
      "_________________________________________________________________\n",
      "block4_conv2 (Conv2D)        (None, 28, 28, 512)       2359808   \n",
      "_________________________________________________________________\n",
      "block4_conv3 (Conv2D)        (None, 28, 28, 512)       2359808   \n",
      "_________________________________________________________________\n",
      "block4_pool (MaxPooling2D)   (None, 14, 14, 512)       0         \n",
      "_________________________________________________________________\n",
      "block5_conv1 (Conv2D)        (None, 14, 14, 512)       2359808   \n",
      "_________________________________________________________________\n",
      "block5_conv2 (Conv2D)        (None, 14, 14, 512)       2359808   \n",
      "_________________________________________________________________\n",
      "block5_conv3 (Conv2D)        (None, 14, 14, 512)       2359808   \n",
      "_________________________________________________________________\n",
      "block5_pool (MaxPooling2D)   (None, 7, 7, 512)         0         \n",
      "_________________________________________________________________\n",
      "flatten_1 (Flatten)          (None, 25088)             0         \n",
      "_________________________________________________________________\n",
      "dense_2 (Dense)              (None, 8)                 200712    \n",
      "=================================================================\n",
      "Total params: 14,915,400\n",
      "Trainable params: 200,712\n",
      "Non-trainable params: 14,714,688\n",
      "_________________________________________________________________\n"
     ]
    }
   ],
   "source": [
    "model.summary()"
   ]
  },
  {
   "cell_type": "markdown",
   "id": "889e9129",
   "metadata": {},
   "source": [
    "## Compiling the model"
   ]
  },
  {
   "cell_type": "code",
   "execution_count": 295,
   "id": "7f9b5619",
   "metadata": {},
   "outputs": [],
   "source": [
    "model.compile(optimizer=Adam(learning_rate=0.01), loss='categorical_crossentropy', metrics=['accuracy'])"
   ]
  },
  {
   "cell_type": "markdown",
   "id": "7c13114d",
   "metadata": {},
   "source": [
    "## Image Data generators for Transfer learning"
   ]
  },
  {
   "cell_type": "code",
   "execution_count": 298,
   "id": "a69f29c9",
   "metadata": {},
   "outputs": [
    {
     "name": "stdout",
     "output_type": "stream",
     "text": [
      "Found 9861 images belonging to 8 classes.\n",
      "Found 2461 images belonging to 8 classes.\n"
     ]
    }
   ],
   "source": [
    "train_data_gen=ImageDataGenerator(rescale=1.0/255)\n",
    "train_data_generater=train_data_gen.flow_from_directory(\n",
    "                                                    train_dir, \n",
    "                                                    target_size=(Input_Shape),\n",
    "                                                    class_mode='categorical',              \n",
    "                                                    batch_size=128                    )\n",
    "\n",
    "test_data_gen=ImageDataGenerator(rescale=1.0/255)\n",
    "test_data_generator=test_data_gen.flow_from_directory(test_dir, target_size=(Input_Shape), class_mode='categorical', batch_size=128)\n"
   ]
  },
  {
   "cell_type": "markdown",
   "id": "c24ba6bd",
   "metadata": {},
   "source": [
    "## Training the model"
   ]
  },
  {
   "cell_type": "code",
   "execution_count": 301,
   "id": "312b16f5",
   "metadata": {},
   "outputs": [
    {
     "name": "stdout",
     "output_type": "stream",
     "text": [
      "Epoch 1/5\n",
      "78/78 [==============================] - 793s 10s/step - loss: 0.9431 - accuracy: 0.8256 - val_loss: 0.8791 - val_accuracy: 0.7834\n",
      "Epoch 2/5\n",
      "78/78 [==============================] - 784s 10s/step - loss: 0.5151 - accuracy: 0.8579 - val_loss: 0.7583 - val_accuracy: 0.8094\n",
      "Epoch 3/5\n",
      "78/78 [==============================] - 785s 10s/step - loss: 0.9210 - accuracy: 0.8706 - val_loss: 1.1056 - val_accuracy: 0.7765\n",
      "Epoch 4/5\n",
      "78/78 [==============================] - 784s 10s/step - loss: 0.5722 - accuracy: 0.8542 - val_loss: 1.0703 - val_accuracy: 0.7879\n"
     ]
    },
    {
     "data": {
      "text/plain": [
       "<keras.callbacks.History at 0x2b182db84f0>"
      ]
     },
     "execution_count": 301,
     "metadata": {},
     "output_type": "execute_result"
    }
   ],
   "source": [
    "model.fit(train_data_generater,validation_data=test_data_generator,callbacks=[es], verbose=True, epochs=5)"
   ]
  },
  {
   "cell_type": "markdown",
   "id": "9c9317cf",
   "metadata": {},
   "source": [
    "# Saving the model"
   ]
  },
  {
   "cell_type": "code",
   "execution_count": 303,
   "id": "191c2511",
   "metadata": {},
   "outputs": [],
   "source": [
    "model.save('Trandsfer Learning Facial Recognition.h5')"
   ]
  },
  {
   "cell_type": "code",
   "execution_count": null,
   "id": "f8f19d3b",
   "metadata": {},
   "outputs": [],
   "source": []
  }
 ],
 "metadata": {
  "kernelspec": {
   "display_name": "Python 3",
   "language": "python",
   "name": "python3"
  },
  "language_info": {
   "codemirror_mode": {
    "name": "ipython",
    "version": 3
   },
   "file_extension": ".py",
   "mimetype": "text/x-python",
   "name": "python",
   "nbconvert_exporter": "python",
   "pygments_lexer": "ipython3",
   "version": "3.8.8"
  }
 },
 "nbformat": 4,
 "nbformat_minor": 5
}
